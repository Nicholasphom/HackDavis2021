{
 "cells": [
  {
   "cell_type": "markdown",
   "id": "surprised-origin",
   "metadata": {},
   "source": [
    "# HackDavis 2021 Project\n",
    "\n",
    "   at this current phase, we will be fetching the data from both yahoo fincance and google"
   ]
  },
  {
   "cell_type": "code",
   "execution_count": 4,
   "id": "pleasant-mechanics",
   "metadata": {},
   "outputs": [],
   "source": [
    "import yfinance as yf\n",
    "import numpy as np\n",
    "import pandas as pd\n",
    "import datetime as dt\n",
    "import pandas_datareader\n",
    "import pandas_datareader.data as web\n",
    "import matplotlib.pyplot as plt\n",
    "%matplotlib inline"
   ]
  },
  {
   "cell_type": "markdown",
   "id": "intelligent-penetration",
   "metadata": {},
   "source": [
    "#  after importing the libraries, I will be fethcing data \n",
    "\n",
    "both google and yahoo finance will be used and we'll have data sets then we will see which one is the best for us to continue with\n",
    "\n",
    "The company will be Apple and the dates will be between 2009 and current date"
   ]
  },
  {
   "cell_type": "code",
   "execution_count": 5,
   "id": "vocal-ranch",
   "metadata": {},
   "outputs": [],
   "source": [
    "start_date_yf, end_date_yf = '2009-01-01', '2021-01-16'"
   ]
  },
  {
   "cell_type": "code",
   "execution_count": 6,
   "id": "million-capitol",
   "metadata": {},
   "outputs": [
    {
     "name": "stdout",
     "output_type": "stream",
     "text": [
      "[*********************100%***********************]  1 of 1 completed\n"
     ]
    }
   ],
   "source": [
    "apple_yf = yf.download('aapl', start=start_date_yf, end= end_date_yf) #using yfinance, we can add more intervals"
   ]
  },
  {
   "cell_type": "code",
   "execution_count": 7,
   "id": "brave-enterprise",
   "metadata": {},
   "outputs": [
    {
     "data": {
      "text/html": [
       "<div>\n",
       "<style scoped>\n",
       "    .dataframe tbody tr th:only-of-type {\n",
       "        vertical-align: middle;\n",
       "    }\n",
       "\n",
       "    .dataframe tbody tr th {\n",
       "        vertical-align: top;\n",
       "    }\n",
       "\n",
       "    .dataframe thead th {\n",
       "        text-align: right;\n",
       "    }\n",
       "</style>\n",
       "<table border=\"1\" class=\"dataframe\">\n",
       "  <thead>\n",
       "    <tr style=\"text-align: right;\">\n",
       "      <th></th>\n",
       "      <th>Open</th>\n",
       "      <th>High</th>\n",
       "      <th>Low</th>\n",
       "      <th>Close</th>\n",
       "      <th>Adj Close</th>\n",
       "      <th>Volume</th>\n",
       "    </tr>\n",
       "    <tr>\n",
       "      <th>Date</th>\n",
       "      <th></th>\n",
       "      <th></th>\n",
       "      <th></th>\n",
       "      <th></th>\n",
       "      <th></th>\n",
       "      <th></th>\n",
       "    </tr>\n",
       "  </thead>\n",
       "  <tbody>\n",
       "    <tr>\n",
       "      <th>2009-01-02</th>\n",
       "      <td>3.067143</td>\n",
       "      <td>3.251429</td>\n",
       "      <td>3.041429</td>\n",
       "      <td>3.241071</td>\n",
       "      <td>2.795913</td>\n",
       "      <td>746015200</td>\n",
       "    </tr>\n",
       "    <tr>\n",
       "      <th>2009-01-05</th>\n",
       "      <td>3.327500</td>\n",
       "      <td>3.435000</td>\n",
       "      <td>3.311071</td>\n",
       "      <td>3.377857</td>\n",
       "      <td>2.913912</td>\n",
       "      <td>1181608400</td>\n",
       "    </tr>\n",
       "    <tr>\n",
       "      <th>2009-01-06</th>\n",
       "      <td>3.426786</td>\n",
       "      <td>3.470357</td>\n",
       "      <td>3.299643</td>\n",
       "      <td>3.322143</td>\n",
       "      <td>2.865849</td>\n",
       "      <td>1289310400</td>\n",
       "    </tr>\n",
       "    <tr>\n",
       "      <th>2009-01-07</th>\n",
       "      <td>3.278929</td>\n",
       "      <td>3.303571</td>\n",
       "      <td>3.223572</td>\n",
       "      <td>3.250357</td>\n",
       "      <td>2.803923</td>\n",
       "      <td>753048800</td>\n",
       "    </tr>\n",
       "    <tr>\n",
       "      <th>2009-01-08</th>\n",
       "      <td>3.229643</td>\n",
       "      <td>3.326786</td>\n",
       "      <td>3.215714</td>\n",
       "      <td>3.310714</td>\n",
       "      <td>2.855991</td>\n",
       "      <td>673500800</td>\n",
       "    </tr>\n",
       "    <tr>\n",
       "      <th>...</th>\n",
       "      <td>...</td>\n",
       "      <td>...</td>\n",
       "      <td>...</td>\n",
       "      <td>...</td>\n",
       "      <td>...</td>\n",
       "      <td>...</td>\n",
       "    </tr>\n",
       "    <tr>\n",
       "      <th>2021-01-11</th>\n",
       "      <td>129.190002</td>\n",
       "      <td>130.169998</td>\n",
       "      <td>128.500000</td>\n",
       "      <td>128.979996</td>\n",
       "      <td>128.979996</td>\n",
       "      <td>100620900</td>\n",
       "    </tr>\n",
       "    <tr>\n",
       "      <th>2021-01-12</th>\n",
       "      <td>128.500000</td>\n",
       "      <td>129.690002</td>\n",
       "      <td>126.860001</td>\n",
       "      <td>128.800003</td>\n",
       "      <td>128.800003</td>\n",
       "      <td>91951100</td>\n",
       "    </tr>\n",
       "    <tr>\n",
       "      <th>2021-01-13</th>\n",
       "      <td>128.759995</td>\n",
       "      <td>131.449997</td>\n",
       "      <td>128.490005</td>\n",
       "      <td>130.889999</td>\n",
       "      <td>130.889999</td>\n",
       "      <td>88636800</td>\n",
       "    </tr>\n",
       "    <tr>\n",
       "      <th>2021-01-14</th>\n",
       "      <td>130.800003</td>\n",
       "      <td>131.000000</td>\n",
       "      <td>128.759995</td>\n",
       "      <td>128.910004</td>\n",
       "      <td>128.910004</td>\n",
       "      <td>90221800</td>\n",
       "    </tr>\n",
       "    <tr>\n",
       "      <th>2021-01-15</th>\n",
       "      <td>128.779999</td>\n",
       "      <td>130.220001</td>\n",
       "      <td>127.000000</td>\n",
       "      <td>127.139999</td>\n",
       "      <td>127.139999</td>\n",
       "      <td>111235300</td>\n",
       "    </tr>\n",
       "  </tbody>\n",
       "</table>\n",
       "<p>3031 rows × 6 columns</p>\n",
       "</div>"
      ],
      "text/plain": [
       "                  Open        High         Low       Close   Adj Close  \\\n",
       "Date                                                                     \n",
       "2009-01-02    3.067143    3.251429    3.041429    3.241071    2.795913   \n",
       "2009-01-05    3.327500    3.435000    3.311071    3.377857    2.913912   \n",
       "2009-01-06    3.426786    3.470357    3.299643    3.322143    2.865849   \n",
       "2009-01-07    3.278929    3.303571    3.223572    3.250357    2.803923   \n",
       "2009-01-08    3.229643    3.326786    3.215714    3.310714    2.855991   \n",
       "...                ...         ...         ...         ...         ...   \n",
       "2021-01-11  129.190002  130.169998  128.500000  128.979996  128.979996   \n",
       "2021-01-12  128.500000  129.690002  126.860001  128.800003  128.800003   \n",
       "2021-01-13  128.759995  131.449997  128.490005  130.889999  130.889999   \n",
       "2021-01-14  130.800003  131.000000  128.759995  128.910004  128.910004   \n",
       "2021-01-15  128.779999  130.220001  127.000000  127.139999  127.139999   \n",
       "\n",
       "                Volume  \n",
       "Date                    \n",
       "2009-01-02   746015200  \n",
       "2009-01-05  1181608400  \n",
       "2009-01-06  1289310400  \n",
       "2009-01-07   753048800  \n",
       "2009-01-08   673500800  \n",
       "...                ...  \n",
       "2021-01-11   100620900  \n",
       "2021-01-12    91951100  \n",
       "2021-01-13    88636800  \n",
       "2021-01-14    90221800  \n",
       "2021-01-15   111235300  \n",
       "\n",
       "[3031 rows x 6 columns]"
      ]
     },
     "execution_count": 7,
     "metadata": {},
     "output_type": "execute_result"
    }
   ],
   "source": [
    "apple_yf"
   ]
  },
  {
   "cell_type": "markdown",
   "id": "resident-swedish",
   "metadata": {},
   "source": [
    " # Indicators Modeling\n",
    " \n",
    " Below, I will start writing fuctions that will implement the indicators so we can train the model to use them for predictions for future price\n",
    " \n",
    "I will start with Bollinger Bands, then ADX, RSI and finally MACD"
   ]
  },
  {
   "cell_type": "markdown",
   "id": "prime-bangkok",
   "metadata": {},
   "source": [
    "# Bollinger Bands\n",
    "\n",
    "Definition:\n",
    "\n",
    "Bollinger Bands are a type of statistical chart characterizing the prices and volatility over time of a financial instrument or commodity, using a formulaic method propounded by John Bollinger in the 1980s"
   ]
  },
  {
   "cell_type": "code",
   "execution_count": 25,
   "id": "rising-smith",
   "metadata": {},
   "outputs": [],
   "source": [
    "def BB(stock, m_previous=20, n_std=2):\n",
    "    #I will make a copy of the data of the stock because I will have to drop some values and mutate someother\n",
    "    #However, if there is a better way, we can for sure do it..\n",
    "    BB_stock = stock.copy()\n",
    "    BB_stock[\"MA\"] = BB_stock[\"Adj Close\"].rolling(m_previous).mean()\n",
    "    BB_stock[\"upperBond\"] = BB_stock[\"MA\"] + n_std * BB_stock[\"MA\"].rolling(m_previous).std()\n",
    "    BB_stock[\"lowerBand\"] = BB_stock[\"MA\"] - n_std * BB_stock[\"MA\"].rolling(m_previous).std()\n",
    "    BB_stock[\"width\"] = BB_stock[\"upperBond\"] - BB_stock[\"lowerBand\"]\n",
    "    BB_stock.dropna(inplace=True)\n",
    "    return BB_stock"
   ]
  },
  {
   "cell_type": "markdown",
   "id": "sharp-triumph",
   "metadata": {},
   "source": [
    "The function above takes 3 parameters:\n",
    "\n",
    "Stock = stock data that we downloaded earlier\n",
    "\n",
    "m_previous = how many previous closing prices that we need.. if our data was gathered as daily data, then it is daily. If the data was collected as hourly, then it would be hourly -> automatic just entered the number of previous candlesticks you want, default is 20\n",
    "\n",
    "n_std = number of standard deviation -> this is important because the default is 2 as per technical analysis, but we can for sure use more to ensure more accurate trades. The more n_std is the more accurate and confident our predictions are and the less requent our trades would be."
   ]
  },
  {
   "cell_type": "code",
   "execution_count": 27,
   "id": "aggregate-spring",
   "metadata": {},
   "outputs": [],
   "source": [
    "apple_BB2=BB(apple_yf) #for 2 std"
   ]
  },
  {
   "cell_type": "code",
   "execution_count": 28,
   "id": "crude-buying",
   "metadata": {},
   "outputs": [
    {
     "data": {
      "text/plain": [
       "<AxesSubplot:title={'center':'Apple Bollinger Bands with 2 std'}, xlabel='Date'>"
      ]
     },
     "execution_count": 28,
     "metadata": {},
     "output_type": "execute_result"
    },
    {
     "data": {
      "image/png": "[encoded data removed]",
      "text/plain": [
       "<Figure size 432x288 with 1 Axes>"
      ]
     },
     "metadata": {
      "needs_background": "light"
     },
     "output_type": "display_data"
    }
   ],
   "source": [
    "apple_BB2.iloc[-100:,[-4,-3,-2]].plot(title=\"Apple Bollinger Bands with 2 std\")"
   ]
  },
  {
   "cell_type": "code",
   "execution_count": 29,
   "id": "steady-planner",
   "metadata": {},
   "outputs": [],
   "source": [
    "apple_BB4=BB(apple_yf,20,4) #for 4 std"
   ]
  },
  {
   "cell_type": "code",
   "execution_count": 30,
   "id": "naval-summary",
   "metadata": {},
   "outputs": [
    {
     "data": {
      "text/plain": [
       "<AxesSubplot:title={'center':'Apple Bollinger Bands with 4 std'}, xlabel='Date'>"
      ]
     },
     "execution_count": 30,
     "metadata": {},
     "output_type": "execute_result"
    },
    {
     "data": {
      "image/png": "[encoded data removed]",
      "text/plain": [
       "<Figure size 432x288 with 1 Axes>"
      ]
     },
     "metadata": {
      "needs_background": "light"
     },
     "output_type": "display_data"
    }
   ],
   "source": [
    "apple_BB4.iloc[-100:,[-4,-3,-2]].plot(title=\"Apple Bollinger Bands with 4 std\")"
   ]
  },
  {
   "cell_type": "code",
   "execution_count": null,
   "id": "complete-opposition",
   "metadata": {},
   "outputs": [],
   "source": []
  }
 ],
 "metadata": {
  "kernelspec": {
   "display_name": "Python 3",
   "language": "python",
   "name": "python3"
  },
  "language_info": {
   "codemirror_mode": {
    "name": "ipython",
    "version": 3
   },
   "file_extension": ".py",
   "mimetype": "text/x-python",
   "name": "python",
   "nbconvert_exporter": "python",
   "pygments_lexer": "ipython3",
   "version": "3.8.5"
  }
 },
 "nbformat": 4,
 "nbformat_minor": 5
}
